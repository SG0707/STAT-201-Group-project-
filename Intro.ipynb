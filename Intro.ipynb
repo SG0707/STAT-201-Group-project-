{
 "cells": [
  {
   "cell_type": "markdown",
   "id": "e4505d2a-d0e4-450e-80d6-d13ca80c3f77",
   "metadata": {},
   "source": [
    "# Relationship Betwwen Vancouver's Crime, Time, and Neighborhood"
   ]
  },
  {
   "cell_type": "markdown",
   "id": "2a353232-b688-452c-a274-12ebe7df3bf0",
   "metadata": {},
   "source": [
    "## Introduction"
   ]
  },
  {
   "cell_type": "markdown",
   "id": "0ddd9e3a-d626-45a7-8477-aa228227758e",
   "metadata": {},
   "source": [
    "It appears to be a common perception that criminal activity happens after sunset. Parents advise children to avoid staying out late at night, and media depicts certain neighborhoods to have higher rates of illegal activities. According to a study conducted by Vivint (1) — a company which specializes in home security — crime rates were not particularly the greatest during nighttime hours, but there appears to be correlation between time of day and both crime rate and severity of crimes.\n",
    "\n",
    "Why do crimes occur both when they do and where they are? Using data from Vancouver Police Department, we set out to analyze crime data between 2018 and 2023 across all neighborhoods in Vancouver to settle this question. Specifically, we’d like to answer whether there is a relationship between time of day and average severity of crime across all neighborhoods?\n",
    "\n",
    "In our study, we will self-define the severity of crime rates as our random variable, the mean as our location parameter, and the standard deviation as the scale parameter. We choose the mean as the location parameter because the mean varies less than other measures of central tendency. We chose the standard deviation because like the mean, the standard deviation is stable with regard to sampling fluctuations. In addition, we use the level of standard deviation to assess whether there is a meaningful relationship (e.g. a low standard deviation would suggest that there is a stronger relationship to specific time of day as our data is less spread out). We will also check our data for any atypical extreme scores which could lead to misleading results."
   ]
  },
  {
   "cell_type": "markdown",
   "id": "0cdf473d-36b6-4e43-aee4-96311649476a",
   "metadata": {},
   "source": [
    "## Preliminary Results"
   ]
  },
  {
   "cell_type": "markdown",
   "id": "f3818a3b-c33e-4327-b522-0f9d84c7f4b7",
   "metadata": {},
   "source": [
    "## Methods: Plan"
   ]
  },
  {
   "cell_type": "markdown",
   "id": "58347aa1-56ba-404d-8278-fe0239386124",
   "metadata": {},
   "source": [
    "## References"
   ]
  },
  {
   "cell_type": "code",
   "execution_count": null,
   "id": "493247d8-a491-4701-8a93-469f26ad4921",
   "metadata": {},
   "outputs": [],
   "source": []
  }
 ],
 "metadata": {
  "kernelspec": {
   "display_name": "Python 3 (ipykernel)",
   "language": "python",
   "name": "python3"
  },
  "language_info": {
   "codemirror_mode": {
    "name": "ipython",
    "version": 3
   },
   "file_extension": ".py",
   "mimetype": "text/x-python",
   "name": "python",
   "nbconvert_exporter": "python",
   "pygments_lexer": "ipython3",
   "version": "3.10.6"
  }
 },
 "nbformat": 4,
 "nbformat_minor": 5
}
