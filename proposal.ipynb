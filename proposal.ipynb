{
 "cells": [
  {
   "cell_type": "code",
   "execution_count": 44,
   "id": "22dc3c8c-1213-445a-ad63-9f1cdf55cf7d",
   "metadata": {},
   "outputs": [
    {
     "ename": "ERROR",
     "evalue": "Error in parse(text = x, srcfile = src): <text>:41:32: unexpected ','\n40: data_dist\n41: correlation <- chisq.test(data$,\n                                   ^\n",
     "output_type": "error",
     "traceback": [
      "Error in parse(text = x, srcfile = src): <text>:41:32: unexpected ','\n40: data_dist\n41: correlation <- chisq.test(data$,\n                                   ^\nTraceback:\n"
     ]
    }
   ],
   "source": [
    "library(tidyverse)\n",
    "library(broom)\n",
    "library(repr)\n",
    "library(digest)\n",
    "library(infer)\n",
    "library(gridExtra)\n",
    "\n",
    "data <- read_csv(\"crimedata_csv_AllNeighbourhoods_2022.csv\")\n",
    "# Type is servrity of crimes, categorical variable\n",
    "# mischief and theft(all) 1\n",
    "# break and enter 2\n",
    "# offense against a person/Vehicle Collision or Pedestrian Struck (with Injury)/homicide/Vehicle Collision or Pedestrian Struck (with Fatality)  3\n",
    "\n",
    "\n",
    "# Time_of_Day is period during 24 hours, categorical variable\n",
    "# 0-6 hour midnight\n",
    "# 6-12 morning\n",
    "# 12-18 afternoon\n",
    "# 18-24 night\n",
    "\n",
    "for(i in 1:length(data$TYPE)){\n",
    "  if(data$TYPE[i] %in% c(\"Mischief\", \"Other Theft\", \"Theft from Vehicle\", \"Theft of Bicycle\", \"Theft of Vehicle\")) {data$TYPE[i] = 1}\n",
    "  if(data$TYPE[i] %in% c(\"Break and Enter Commercial\", \"Break and Enter Residential/Other\")) {data$TYPE[i] = 2}\n",
    "  if(data$TYPE[i] %in% c(\"Offence Against a Person\", \"Vehicle Collision or Pedestrian Struck (with Injury)\",\"Homicide\", \"Vehicle Collision or Pedestrian Struck (with Fatality)\")) {data$TYPE[i] = 3}\n",
    "  if(data$HOUR[i] %in% c(0,1,2,3,4,5,6)) {data$HOUR[i] = \"Midnight\"}\n",
    "  if(data$HOUR[i] %in% c(7,8,9,10,11,12)) {data$HOUR[i] = \"Morning\"}\n",
    "  if(data$HOUR[i] %in% c(13,14,15,16,17,18)) {data$HOUR[i] = \"Afternoon\"}\n",
    "  if(data$HOUR[i] %in% c(18,19,20,21,22,23,24)) {data$HOUR[i] = \"Night\"}\n",
    "}\n",
    "\n",
    "# 0-6 hour midnight\n",
    "# 6-12 morning\n",
    "# 12-18 afternoon\n",
    "# 18-24 night\n",
    "\n",
    "\n",
    "data <- data %>% rename(Time_of_Day = HOUR)\n",
    "data <- data %>% select(TYPE,Time_of_Day)\n",
    "data_dist <- mosaicplot(Time_of_Day~TYPE,data=data,col=c(\"Green\",\"Blue\", \"Red\"))\n",
    "data_dist\n",
    "correlation <- chisq.test(data$Time_of_Day, data$TYPE)\n",
    "correlation \n"
   ]
  },
  {
   "cell_type": "code",
   "execution_count": null,
   "id": "60bc7a2c-b8cc-4464-bb8a-0869041f3364",
   "metadata": {},
   "outputs": [],
   "source": []
  },
  {
   "cell_type": "code",
   "execution_count": null,
   "id": "899c763c-829f-4aab-bd39-7398dcac1e8e",
   "metadata": {},
   "outputs": [],
   "source": []
  }
 ],
 "metadata": {
  "kernelspec": {
   "display_name": "R",
   "language": "R",
   "name": "ir"
  },
  "language_info": {
   "codemirror_mode": "r",
   "file_extension": ".r",
   "mimetype": "text/x-r-source",
   "name": "R",
   "pygments_lexer": "r",
   "version": "4.1.3"
  }
 },
 "nbformat": 4,
 "nbformat_minor": 5
}
