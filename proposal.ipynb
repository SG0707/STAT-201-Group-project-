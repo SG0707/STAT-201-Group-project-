{
 "cells": [
  {
   "cell_type": "code",
   "execution_count": 3,
   "id": "22dc3c8c-1213-445a-ad63-9f1cdf55cf7d",
   "metadata": {},
   "outputs": [
    {
     "name": "stderr",
     "output_type": "stream",
     "text": [
      "\u001b[1mRows: \u001b[22m\u001b[34m34189\u001b[39m \u001b[1mColumns: \u001b[22m\u001b[34m10\u001b[39m\n",
      "\u001b[36m──\u001b[39m \u001b[1mColumn specification\u001b[22m \u001b[36m────────────────────────────────────────────────────────\u001b[39m\n",
      "\u001b[1mDelimiter:\u001b[22m \",\"\n",
      "\u001b[31mchr\u001b[39m (3): TYPE, HUNDRED_BLOCK, NEIGHBOURHOOD\n",
      "\u001b[32mdbl\u001b[39m (7): YEAR, MONTH, DAY, HOUR, MINUTE, X, Y\n",
      "\n",
      "\u001b[36mℹ\u001b[39m Use `spec()` to retrieve the full column specification for this data.\n",
      "\u001b[36mℹ\u001b[39m Specify the column types or set `show_col_types = FALSE` to quiet this message.\n"
     ]
    },
    {
     "data": {
      "text/plain": [
       "\n",
       "                            Break and Enter Commercial \n",
       "                                                  1984 \n",
       "                     Break and Enter Residential/Other \n",
       "                                                  1266 \n",
       "                                              Homicide \n",
       "                                                    11 \n",
       "                                              Mischief \n",
       "                                                  5604 \n",
       "                              Offence Against a Person \n",
       "                                                  3871 \n",
       "                                           Other Theft \n",
       "                                                 10731 \n",
       "                                    Theft from Vehicle \n",
       "                                                  7262 \n",
       "                                      Theft of Bicycle \n",
       "                                                  1517 \n",
       "                                      Theft of Vehicle \n",
       "                                                   912 \n",
       "Vehicle Collision or Pedestrian Struck (with Fatality) \n",
       "                                                    18 \n",
       "  Vehicle Collision or Pedestrian Struck (with Injury) \n",
       "                                                  1013 "
      ]
     },
     "metadata": {},
     "output_type": "display_data"
    }
   ],
   "source": [
    "library(tidyverse)\n",
    "library(broom)\n",
    "library(repr)\n",
    "library(digest)\n",
    "library(infer)\n",
    "library(gridExtra)\n",
    "\n",
    "data <- read_csv(\"crimedata_csv_AllNeighbourhoods_2022.csv\")\n",
    "table(data$TYPE)"
   ]
  },
  {
   "cell_type": "code",
   "execution_count": null,
   "id": "60bc7a2c-b8cc-4464-bb8a-0869041f3364",
   "metadata": {},
   "outputs": [],
   "source": []
  },
  {
   "cell_type": "code",
   "execution_count": null,
   "id": "899c763c-829f-4aab-bd39-7398dcac1e8e",
   "metadata": {},
   "outputs": [],
   "source": []
  }
 ],
 "metadata": {
  "kernelspec": {
   "display_name": "R",
   "language": "R",
   "name": "ir"
  },
  "language_info": {
   "codemirror_mode": "r",
   "file_extension": ".r",
   "mimetype": "text/x-r-source",
   "name": "R",
   "pygments_lexer": "r",
   "version": "4.1.3"
  }
 },
 "nbformat": 4,
 "nbformat_minor": 5
}
